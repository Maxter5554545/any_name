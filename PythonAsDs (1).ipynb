{
 "cells": [
  {
   "cell_type": "code",
   "execution_count": 2,
   "id": "47ebe2a1-d8c4-4ea1-8093-0329274e7661",
   "metadata": {},
   "outputs": [
    {
     "name": "stdout",
     "output_type": "stream",
     "text": [
      "2.0\n"
     ]
    }
   ],
   "source": [
    "#1 Convert a integer to a floating-point number.\n",
    "\n",
    "num = 2\n",
    " \n",
    "floting = float(num)\n",
    "\n",
    "print(floting)"
   ]
  },
  {
   "cell_type": "code",
   "execution_count": null,
   "id": "6ce4a780-ab9d-4208-a9fa-cea288ecb979",
   "metadata": {},
   "outputs": [],
   "source": []
  }
 ],
 "metadata": {
  "kernelspec": {
   "display_name": "Python 3 (ipykernel)",
   "language": "python",
   "name": "python3"
  },
  "language_info": {
   "codemirror_mode": {
    "name": "ipython",
    "version": 3
   },
   "file_extension": ".py",
   "mimetype": "text/x-python",
   "name": "python",
   "nbconvert_exporter": "python",
   "pygments_lexer": "ipython3",
   "version": "3.10.8"
  }
 },
 "nbformat": 4,
 "nbformat_minor": 5
}
